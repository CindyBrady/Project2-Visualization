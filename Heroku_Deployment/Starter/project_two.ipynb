{
 "cells": [
  {
   "cell_type": "code",
   "execution_count": 1,
   "metadata": {},
   "outputs": [],
   "source": [
    "import pandas as pd\n",
    "from sqlalchemy import create_engine\n",
    "from sqlalchemy.ext.declarative import declarative_base\n",
    "from sqlalchemy import Column, Integer, String, Float, Date\n",
    "from sqlalchemy.orm import Session \n",
    "from models import create_classes\n",
    "import os\n",
    "from flask import (\n",
    "    Flask,\n",
    "    render_template,\n",
    "    jsonify,\n",
    "    request,\n",
    "    redirect)\n",
    "from flask_sqlalchemy import SQLAlchemy\n",
    "\n",
    "# Flask Setup\n",
    "app = Flask(__name__)\n",
    "\n",
    "# Bring in csv to a Pandas DF\n",
    "retail_csv = \"./static/The Great Outdoors Retail & Sales Data [Sample] - Product Sales.csv\"\n",
    "retail_df = pd.read_csv(retail_csv)\n",
    "\n",
    "# Database Setup\n",
    "# sqlite\n",
    "Base = declarative_base()\n",
    "\n",
    "class StoreData(Base):\n",
    "\n",
    "    __tablename__ = \"RetailStore\"\n",
    "\n",
    "    Revenue = Column(Integer, primary_key=True)\n",
    "    Quantity = Column(Integer)\n",
    "    Cost = Column(Integer)\n",
    "    Price = Column(Integer)\n",
    "    Country_Code = Column(String)\n",
    "    Date = Column(String)\n",
    "    Store_Name = Column(String)\n",
    "    Country = Column(String)\n",
    "    City = Column(String)\n",
    "    Lat_Long = Column(Integer)\n",
    "    Store_ID = Column(Integer)\n",
    "    Product = Column(String)\n",
    "\n",
    "    def __init__(self, name):\n",
    "\n",
    "        self.name = name    \n",
    "\n",
    "engine = create_engine(\"sqlite:///retail.sqlite\")\n",
    "conn = engine.connect()\n",
    "Base.metadata.create_all(engine)\n",
    "\n",
    "retail_df.to_sql(\"RetailStore\", conn, if_exists='replace')"
   ]
  },
  {
   "cell_type": "code",
   "execution_count": 2,
   "metadata": {},
   "outputs": [
    {
     "data": {
      "text/plain": [
       "['RetailStore']"
      ]
     },
     "execution_count": 2,
     "metadata": {},
     "output_type": "execute_result"
    }
   ],
   "source": [
    "# confirm tables\n",
    "engine.table_names()"
   ]
  },
  {
   "cell_type": "code",
   "execution_count": 3,
   "metadata": {},
   "outputs": [],
   "source": [
    "# create json from DF\n",
    "retail_df.to_json('retail.json', orient='records')"
   ]
  },
  {
   "cell_type": "code",
   "execution_count": null,
   "metadata": {},
   "outputs": [],
   "source": []
  }
 ],
 "metadata": {
  "kernelspec": {
   "display_name": "Python [conda env:PyData] *",
   "language": "python",
   "name": "conda-env-PyData-py"
  },
  "language_info": {
   "codemirror_mode": {
    "name": "ipython",
    "version": 3
   },
   "file_extension": ".py",
   "mimetype": "text/x-python",
   "name": "python",
   "nbconvert_exporter": "python",
   "pygments_lexer": "ipython3",
   "version": "3.6.10"
  }
 },
 "nbformat": 4,
 "nbformat_minor": 4
}
